{
 "cells": [
  {
   "cell_type": "code",
   "execution_count": 1,
   "id": "52819175-6e4c-4515-91ea-dfcf7670ad57",
   "metadata": {},
   "outputs": [],
   "source": [
    "students = [(\"Allen Anderson\", \"Computer Science\"),\n",
    "            (\"Edgar Einstein\", \"Engineering\"),\n",
    "            (\"Farrah Finn\", \"Fine Arts\")]"
   ]
  },
  {
   "cell_type": "code",
   "execution_count": 2,
   "id": "2f3974e1-c45a-41e2-9c7f-1cd5a1f6d6da",
   "metadata": {},
   "outputs": [],
   "source": [
    "name, major = students[1]"
   ]
  },
  {
   "cell_type": "code",
   "execution_count": 8,
   "id": "823c9a23-045d-4366-ad29-e955b0332785",
   "metadata": {},
   "outputs": [],
   "source": [
    "def update_student(students, index, name, major):\n",
    "    students[index] = name, major"
   ]
  },
  {
   "cell_type": "code",
   "execution_count": 9,
   "id": "26f51885-f434-4f15-addb-42b7db8b9ef6",
   "metadata": {},
   "outputs": [],
   "source": [
    "update_student(students,1,\"vamsi\",\"robotics\")"
   ]
  },
  {
   "cell_type": "code",
   "execution_count": 10,
   "id": "620f8a0d-1e0d-49e1-ab76-d3080d2b3b58",
   "metadata": {},
   "outputs": [
    {
     "data": {
      "text/plain": [
       "[('Allen Anderson', 'Computer Science'),\n",
       " ('vamsi', 'robotics'),\n",
       " ('Farrah Finn', 'Fine Arts')]"
      ]
     },
     "execution_count": 10,
     "metadata": {},
     "output_type": "execute_result"
    }
   ],
   "source": [
    "students"
   ]
  },
  {
   "cell_type": "code",
   "execution_count": 11,
   "id": "95e9d123-fdcc-4efc-9274-cf2c1937cec6",
   "metadata": {},
   "outputs": [],
   "source": [
    "def find_students_by_name(students, name):\n",
    "    return [student for student in students if name in student[0]]"
   ]
  },
  {
   "cell_type": "code",
   "execution_count": 13,
   "id": "15fc8c27-679a-4de1-8aed-2909afbfe58f",
   "metadata": {},
   "outputs": [
    {
     "data": {
      "text/plain": [
       "[('vamsi', 'robotics')]"
      ]
     },
     "execution_count": 13,
     "metadata": {},
     "output_type": "execute_result"
    }
   ],
   "source": [
    "find_students_by_name(students,\"vamsi\")"
   ]
  },
  {
   "cell_type": "code",
   "execution_count": 17,
   "id": "a6d6ac37-25a7-47cb-9806-0af3090ad7b6",
   "metadata": {},
   "outputs": [],
   "source": [
    "students[0]=\"sam\",\"hell\""
   ]
  },
  {
   "cell_type": "code",
   "execution_count": 18,
   "id": "71a9bc04-6165-4fe2-8aed-f41e6b5282c2",
   "metadata": {},
   "outputs": [
    {
     "data": {
      "text/plain": [
       "[('sam', 'hell'), ('vamsi', 'robotics'), ('Farrah Finn', 'Fine Arts')]"
      ]
     },
     "execution_count": 18,
     "metadata": {},
     "output_type": "execute_result"
    }
   ],
   "source": [
    "students"
   ]
  },
  {
   "cell_type": "code",
   "execution_count": 85,
   "id": "87e38ca0-a219-41b4-9c2e-35acf428111c",
   "metadata": {},
   "outputs": [
    {
     "name": "stdout",
     "output_type": "stream",
     "text": [
      "{'Randy': ['Input.txt', 'Output.txt'], 'Stan': ['Code.py']}\n"
     ]
    }
   ],
   "source": [
    "def group_by_owners(files):\n",
    "    ans = {}\n",
    "    temp = []\n",
    "    for i,j in files.items():\n",
    "        #print(1)\n",
    "        if j in ans:\n",
    "            ans[j].append(i)\n",
    "        else:\n",
    "            ans[j] = [i]\n",
    "    return ans\n",
    "\n",
    "if __name__ == \"__main__\":    \n",
    "    files = {\n",
    "        'Input.txt': 'Randy',\n",
    "        'Code.py': 'Stan',\n",
    "        'Output.txt': 'Randy'\n",
    "    }   \n",
    "    print(group_by_owners(files))"
   ]
  },
  {
   "cell_type": "code",
   "execution_count": 92,
   "id": "d84c7155-e05f-4553-89bd-b102a032dcb3",
   "metadata": {},
   "outputs": [
    {
     "name": "stdout",
     "output_type": "stream",
     "text": [
      "[['vanilla', 'chocolate sauce'], ['chocolate', 'chocolate sauce']]\n"
     ]
    }
   ],
   "source": [
    "class IceCreamMachine:\n",
    "    \n",
    "    def __init__(self, ingredients, toppings):\n",
    "        self.ingredients = ingredients\n",
    "        self.toppings = toppings\n",
    "                \n",
    "    def scoops(self):\n",
    "        scoop = []\n",
    "        for i in range(len(self.ingredients)):\n",
    "            for j in range(len(self.toppings)):\n",
    "                scoop.append([self.ingredients[i],self.toppings[j]])\n",
    "        return scoop\n",
    "\n",
    "if __name__ == \"__main__\":\n",
    "    machine = IceCreamMachine([\"vanilla\", \"chocolate\"], [\"chocolate sauce\"])\n",
    "    print(machine.scoops()) #should print: [['vanilla', 'chocolate sauce'], ['chocolate', 'chocolate sauce']]"
   ]
  },
  {
   "cell_type": "code",
   "execution_count": 83,
   "id": "256a9b06-e4cf-450a-b5e4-6d15b57c34ce",
   "metadata": {},
   "outputs": [
    {
     "data": {
      "text/plain": [
       "['vanilla', 'chocolate']"
      ]
     },
     "execution_count": 83,
     "metadata": {},
     "output_type": "execute_result"
    }
   ],
   "source": [
    "machine.ingredients #, machine.ingredients[0]"
   ]
  },
  {
   "cell_type": "code",
   "execution_count": 65,
   "id": "3334b587-62d3-4031-8356-bf84386e749b",
   "metadata": {},
   "outputs": [
    {
     "data": {
      "text/plain": [
       "['chocolate sauce']"
      ]
     },
     "execution_count": 65,
     "metadata": {},
     "output_type": "execute_result"
    }
   ],
   "source": [
    "machine.toppings"
   ]
  },
  {
   "cell_type": "code",
   "execution_count": 80,
   "id": "7d39e76c-6afa-48ed-9be5-824cd7e8b12a",
   "metadata": {},
   "outputs": [
    {
     "data": {
      "text/plain": [
       "'vanillachocolate sauce'"
      ]
     },
     "execution_count": 80,
     "metadata": {},
     "output_type": "execute_result"
    }
   ],
   "source": [
    "machine.ingredients[0] + machine.toppings[0]"
   ]
  },
  {
   "cell_type": "code",
   "execution_count": 94,
   "id": "bebcd26c-cc71-40a9-8321-ac46d3e72e26",
   "metadata": {},
   "outputs": [
    {
     "name": "stdout",
     "output_type": "stream",
     "text": [
      "['Ava', 'Emma', 'Olivia', 'Sophia']\n"
     ]
    }
   ],
   "source": [
    "def unique_names(names1, names2):\n",
    "    newnames = names1 + names2\n",
    "    names = []\n",
    "    for i in range(len(newnames)):\n",
    "        if newnames[i] not in names:\n",
    "            names.append(newnames[i])\n",
    "        \n",
    "    return names\n",
    "\n",
    "if __name__ == \"__main__\":\n",
    "    names1 = [\"Ava\", \"Emma\", \"Olivia\"]\n",
    "    names2 = [\"Olivia\", \"Sophia\", \"Emma\"]\n",
    "    print(unique_names(names1, names2)) # should print Ava, Emma, Olivia, Sophia"
   ]
  },
  {
   "cell_type": "code",
   "execution_count": 109,
   "id": "f7d7c4a9-a949-4bb2-a775-87a1295effc9",
   "metadata": {},
   "outputs": [
    {
     "name": "stdout",
     "output_type": "stream",
     "text": [
      "(-1.0, -4.0)\n"
     ]
    }
   ],
   "source": [
    "import math\n",
    "def find_roots(a, b, c):\n",
    "    roots = ()\n",
    "    root1 = (-b + math.sqrt((b**2)-(4*a*c)))/(2*a)\n",
    "    root2 = (-b - math.sqrt((b**2)-(4*a*c)))/(2*a)\n",
    "    roots = (root1,root2)\n",
    "    return roots\n",
    "\n",
    "print(find_roots(2, 10, 8));\n"
   ]
  },
  {
   "cell_type": "code",
   "execution_count": 120,
   "id": "ec52c667-d56f-43c8-84ff-2b409add83e8",
   "metadata": {},
   "outputs": [
    {
     "name": "stdout",
     "output_type": "stream",
     "text": [
      "You enetered a wrong data\n",
      "10\n"
     ]
    }
   ],
   "source": [
    "class TextInput:\n",
    "    \n",
    "    def __init__(self):\n",
    "        self.character = \"\"\n",
    "        \n",
    "    def add(self, character):\n",
    "        self.character = self.character + character\n",
    "    \n",
    "    def get_value(self):\n",
    "        return self.character\n",
    "        \n",
    "  \n",
    "class NumericInput(TextInput):\n",
    "    \n",
    "    def __init__(self):\n",
    "        super().__init__()\n",
    "        \n",
    "    def add(self,character):\n",
    "        \n",
    "        try:\n",
    "            n = int(character)\n",
    "            self.character = self.character + character\n",
    "        except:\n",
    "            print(\"You enetered a wrong data\")\n",
    "            pass\n",
    "\n",
    "\n",
    "if __name__ == '__main__':\n",
    "    input = NumericInput()\n",
    "    input.add(\"1\")\n",
    "    input.add(\"a\")\n",
    "    input.add(\"0\")\n",
    "    print(input.get_value())"
   ]
  },
  {
   "cell_type": "code",
   "execution_count": 118,
   "id": "8abe07c8-2f52-4154-9443-c189d0db02d4",
   "metadata": {},
   "outputs": [
    {
     "data": {
      "text/plain": [
       "'ab'"
      ]
     },
     "execution_count": 118,
     "metadata": {},
     "output_type": "execute_result"
    }
   ],
   "source": [
    "\"a\" + \"b\""
   ]
  },
  {
   "cell_type": "code",
   "execution_count": 121,
   "id": "839b8e27-049f-4bb7-9305-64e86ddb5bae",
   "metadata": {},
   "outputs": [
    {
     "name": "stdout",
     "output_type": "stream",
     "text": [
      "HELLO\n",
      "hello\n"
     ]
    }
   ],
   "source": [
    "#  Higher Order Function =  a function that either:\n",
    "#                           1. accepts a function as an argument\n",
    "#                               or\n",
    "#                           2. returns a function\n",
    "#                           (In python, functions are also treated as objects)\n",
    "\n",
    "# ----- 1. accepts a function as an argument ----- \n",
    "def loud(text):\n",
    "   return text.upper()\n",
    "\n",
    "def quiet(text):\n",
    "   return text.lower()\n",
    "#acceping a function as an argument\n",
    "def hello(func):\n",
    "   text = func(\"Hello\")\n",
    "   print(text)\n",
    "\n",
    "\n",
    "hello(loud)\n",
    "hello(quiet)"
   ]
  },
  {
   "cell_type": "code",
   "execution_count": 123,
   "id": "074ee568-1e5f-4a22-8469-a46a6428b69d",
   "metadata": {},
   "outputs": [
    {
     "name": "stdout",
     "output_type": "stream",
     "text": [
      "5.0\n"
     ]
    }
   ],
   "source": [
    "# ------------ 2. returns a function ------------- \n",
    "def divisor(x):\n",
    "   def dividend(y):\n",
    "       return y / x\n",
    "   return dividend #returning a function\n",
    "\n",
    "\n",
    "divide = divisor(2)\n",
    "print(divide(10))"
   ]
  },
  {
   "cell_type": "code",
   "execution_count": 125,
   "id": "56c331fb-4d03-4da0-8ad2-5c69d2fa7cbb",
   "metadata": {},
   "outputs": [
    {
     "name": "stdout",
     "output_type": "stream",
     "text": [
      "[4, 3]\n"
     ]
    }
   ],
   "source": [
    "n = [4,3,2,1]\n",
    "print(list(filter(lambda x:x>2,n)))"
   ]
  },
  {
   "cell_type": "code",
   "execution_count": 126,
   "id": "d7ac2ae3-bbbf-4bb8-8356-be465898adfd",
   "metadata": {},
   "outputs": [
    {
     "name": "stdout",
     "output_type": "stream",
     "text": [
      "[4, 3]\n"
     ]
    }
   ],
   "source": [
    "print([x for x in n if x>2])"
   ]
  },
  {
   "cell_type": "code",
   "execution_count": 132,
   "id": "1a70b0a1-4d4e-4f58-a524-fb4e94203191",
   "metadata": {},
   "outputs": [
    {
     "name": "stdout",
     "output_type": "stream",
     "text": [
      "(<function <lambda> at 0x0000024FE3528040>, <function <lambda> at 0x0000024FE3528160>, <function <lambda> at 0x0000024FE35285E0>)\n"
     ]
    }
   ],
   "source": [
    "def pipeline(*funcs):\n",
    "    def helper(arg):\n",
    "        return   \n",
    "    return helper\n",
    "            \n",
    "fun = pipeline(lambda x: x * 3, lambda x: x + 1, lambda x: x / 2)\n",
    "print(fun(3)) #should print 5.0"
   ]
  },
  {
   "cell_type": "code",
   "execution_count": 133,
   "id": "aacb9991-75db-429d-ae3e-3f9e4997564b",
   "metadata": {},
   "outputs": [
    {
     "name": "stdout",
     "output_type": "stream",
     "text": [
      "True\n",
      "This animal is eating\n",
      "This animal is sleeping\n",
      "This rabbit is running\n",
      "This fish is swimming\n",
      "This hawk is flying\n"
     ]
    }
   ],
   "source": [
    "class Animal:\n",
    "\n",
    "    alive = True\n",
    "\n",
    "    def eat(self):\n",
    "        print(\"This animal is eating\")\n",
    "\n",
    "    def sleep(self):\n",
    "        print(\"This animal is sleeping\")\n",
    "\n",
    "class Rabbit(Animal):\n",
    "\n",
    "    def run(self):\n",
    "        print(\"This rabbit is running\")\n",
    "\n",
    "class Fish(Animal):\n",
    "\n",
    "    def swim(self):\n",
    "        print(\"This fish is swimming\")\n",
    "\n",
    "class Hawk(Animal):\n",
    "\n",
    "    def fly(self):\n",
    "        print(\"This hawk is flying\")\n",
    "\n",
    "\n",
    "rabbit = Rabbit()\n",
    "fish = Fish()\n",
    "hawk = Hawk()\n",
    "\n",
    "print(rabbit.alive)\n",
    "fish.eat()\n",
    "hawk.sleep()\n",
    "\n",
    "rabbit.run()\n",
    "fish.swim()\n",
    "hawk.fly()"
   ]
  },
  {
   "cell_type": "code",
   "execution_count": 135,
   "id": "297864f1-857e-455d-b453-2b6c4bfa8147",
   "metadata": {},
   "outputs": [
    {
     "name": "stdout",
     "output_type": "stream",
     "text": [
      "Hello,John\n"
     ]
    }
   ],
   "source": [
    "class Greeter:\n",
    "\n",
    "    def __init__(self, boss):\n",
    "        self.boss = boss\n",
    "\n",
    "    def enters(self, visitor):\n",
    "        self.visitor = visitor\n",
    "        return visitor\n",
    "        \n",
    "\n",
    "    def greet(self):\n",
    "        if self.boss == self.visitor:\n",
    "            return (f\"Hello,{self.boss}\")\n",
    "        else:\n",
    "            return (f\"Hello,{self.visitor}\")\n",
    "    \n",
    "if __name__ == \"__main__\":\n",
    "    g = Greeter('Chuck')\n",
    "    g.enters('John')\n",
    "    print(g.greet())"
   ]
  },
  {
   "cell_type": "code",
   "execution_count": 176,
   "id": "c6adba02-1e50-4d3c-983b-648bb418ab54",
   "metadata": {},
   "outputs": [
    {
     "name": "stdout",
     "output_type": "stream",
     "text": [
      "None\n",
      "False\n"
     ]
    }
   ],
   "source": [
    "import re\n",
    "\n",
    "def validate(username):\n",
    "    if len(username)>4 and len(re.findall('_',username)):\n",
    "        if username[0].isalpha() and username[len(username)-1] != '_':\n",
    "            #print(1)\n",
    "            for i in username:\n",
    "                #print(2)\n",
    "                if i.isdigit() and i.isalpha():    \n",
    "                    #print(3)\n",
    "                    return True\n",
    "    else:\n",
    "        #print(4)\n",
    "        return False\n",
    "                \n",
    "print(validate(\"Mike_Standish\")) #Valid username\n",
    "print(validate(\"Mike Standish\")) #Invalid username"
   ]
  },
  {
   "cell_type": "code",
   "execution_count": 141,
   "id": "11c89d25-d0f5-4efe-9b04-d7edd30656d5",
   "metadata": {},
   "outputs": [
    {
     "data": {
      "text/plain": [
       "'o'"
      ]
     },
     "execution_count": 141,
     "metadata": {},
     "output_type": "execute_result"
    }
   ],
   "source": [
    "user = \"hello\"\n",
    "user[len(user)-1]"
   ]
  },
  {
   "cell_type": "code",
   "execution_count": 161,
   "id": "2335c6f4-81c1-4051-abe4-f7afeeb8bd93",
   "metadata": {},
   "outputs": [
    {
     "name": "stdout",
     "output_type": "stream",
     "text": [
      "<class '__main__.pateints'>\n"
     ]
    }
   ],
   "source": [
    "from collections import namedtuple\n",
    "\n",
    "def merge(*records):\n",
    "    \"\"\"\n",
    "    :param records: (varargs list of namedtuple) The patient details.\n",
    "    :returns: (namedtuple) named Patient, containing details from all records, in entry order.\n",
    "    \"\"\"  \n",
    "    pateints = namedtuple('pateints',personal_details._fields + complexion._fields)    \n",
    "    return pateints\n",
    "    \n",
    "PersonalDetails = namedtuple('PersonalDetails', ['date_of_birth'])\n",
    "personal_details = PersonalDetails(date_of_birth = '06-04-1972')\n",
    "                                   \n",
    "Complexion = namedtuple('Complexion', ['eye_color', 'hair_color'])\n",
    "complexion = Complexion(eye_color = 'Blue', hair_color = 'Black')\n",
    "  \n",
    "print(merge(personal_details, complexion))"
   ]
  },
  {
   "cell_type": "code",
   "execution_count": 158,
   "id": "314f6c94-4027-4dca-802b-1ca26e32747d",
   "metadata": {},
   "outputs": [
    {
     "data": {
      "text/plain": [
       "2"
      ]
     },
     "execution_count": 158,
     "metadata": {},
     "output_type": "execute_result"
    }
   ],
   "source": [
    "len(complexion)"
   ]
  },
  {
   "cell_type": "code",
   "execution_count": 159,
   "id": "8787c065-4dcb-4e92-8918-7aa63a9220b9",
   "metadata": {},
   "outputs": [
    {
     "data": {
      "text/plain": [
       "'06-04-1972'"
      ]
     },
     "execution_count": 159,
     "metadata": {},
     "output_type": "execute_result"
    }
   ],
   "source": [
    "personal_details[0]"
   ]
  },
  {
   "cell_type": "code",
   "execution_count": 172,
   "id": "44ccdd96-daa7-406e-a9a3-ad39c63c702b",
   "metadata": {},
   "outputs": [
    {
     "name": "stdout",
     "output_type": "stream",
     "text": [
      "20\n"
     ]
    }
   ],
   "source": [
    "def find_max_sum(numbers):\n",
    "    numbers.sort()\n",
    "    sums = numbers[-1]+numbers[-2]\n",
    "    return sums\n",
    "    \n",
    "if __name__ == \"__main__\":\n",
    "    print(find_max_sum([5, 9, 7, 11]))"
   ]
  },
  {
   "cell_type": "code",
   "execution_count": 169,
   "id": "dca9ecac-0d05-4813-b94d-38f8d935f02c",
   "metadata": {},
   "outputs": [
    {
     "data": {
      "text/plain": [
       "range(0, 5)"
      ]
     },
     "execution_count": 169,
     "metadata": {},
     "output_type": "execute_result"
    }
   ],
   "source": [
    "numb = [1,45,55,55,3]\n",
    "range(len(numb))"
   ]
  },
  {
   "cell_type": "code",
   "execution_count": 174,
   "id": "4037a772-f845-4c08-bbcc-7aa7ba1f28d1",
   "metadata": {},
   "outputs": [
    {
     "name": "stdout",
     "output_type": "stream",
     "text": [
      "11\n"
     ]
    }
   ],
   "source": [
    "from functools import reduce\n",
    "def find_max_sum(numbers):\n",
    "    numbs = reduce(max,numbers)  \n",
    "    return numbs\n",
    "    \n",
    "if __name__ == \"__main__\":\n",
    "    print(find_max_sum([5, 9, 7, 11]))"
   ]
  },
  {
   "cell_type": "code",
   "execution_count": null,
   "id": "54238f9a-3fca-43f6-a6cb-3db865d5832c",
   "metadata": {},
   "outputs": [],
   "source": []
  }
 ],
 "metadata": {
  "kernelspec": {
   "display_name": "Python 3 (ipykernel)",
   "language": "python",
   "name": "python3"
  },
  "language_info": {
   "codemirror_mode": {
    "name": "ipython",
    "version": 3
   },
   "file_extension": ".py",
   "mimetype": "text/x-python",
   "name": "python",
   "nbconvert_exporter": "python",
   "pygments_lexer": "ipython3",
   "version": "3.9.12"
  }
 },
 "nbformat": 4,
 "nbformat_minor": 5
}
